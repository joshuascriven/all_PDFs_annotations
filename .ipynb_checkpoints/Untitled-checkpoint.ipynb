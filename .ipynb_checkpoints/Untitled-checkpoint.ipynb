{
 "cells": [
  {
   "cell_type": "code",
   "execution_count": 18,
   "metadata": {},
   "outputs": [
    {
     "name": "stdout",
     "output_type": "stream",
     "text": [
      "/Volumes/MAC HD/joshuascriven/Documents/GitHub-MiniMack/all_PDFs_annotations/python tests/[Language, Power and Social Process] Eva Codo - Immigration and Bureaucratic Control_ Language Practices in Public Administration (20.pdf\n",
      "/Volumes/MAC HD/joshuascriven/Documents/GitHub-MiniMack/all_PDFs_annotations/python tests/[Migration, Diasporas and Citizenship Series] Evan Smith, Marinella Marmo (auth.) - Race, Gender and the Body in British Immigration .pdf\n",
      "/Volumes/MAC HD/joshuascriven/Documents/GitHub-MiniMack/all_PDFs_annotations/python tests/[Rethinking Globalizations] Leanne Weber - Rethinking Border Control for a Globalizing World_ A Preferred Future (2015, Routledge).pdf\n",
      "/Volumes/MAC HD/joshuascriven/Documents/GitHub-MiniMack/all_PDFs_annotations/python tests/Rosemary Byrne - New Asylum Countries__Migration Control and Refugee Protection in an Enlarged European Union (Immigration and Asylum.pdf\n",
      "/Volumes/MAC HD/joshuascriven/Documents/GitHub-MiniMack/all_PDFs_annotations/python tests/Tom K. Wong - Rights, Deportation, and Detention in the Age of Immigration Control (2015, Stanford University Press).pdf\n"
     ]
    }
   ],
   "source": [
    "#!/usr/bin/env python3\n",
    "# -*- coding: utf-8 -*-\n",
    "\n",
    "\"\"\"\n",
    "Uses the pdfannots.py script, created by Andrew Baumann (https://github.com/0xabu/pdfannots).\n",
    "Baumann's script \"extracts annotations from a PDF file in a text format for use in reviewing.\"\n",
    "I simply loop all PDF files in the current directory as arguments in Baumann's script, setting each output text file name to the repective PDF name.\n",
    "For this to work, set the output file name to \"test.txt\" in the o option (e.g., -o \"test.txt\")\n",
    "\"\"\"\n",
    "\n",
    "# import os, re, sys\n",
    "\n",
    "# ROOT_PATH = os.path.dirname(os.path.abspath(__file__))\n",
    "# os.chdir(ROOT_PATH)\n",
    "# print (ROOT_PATH)\n",
    "\n",
    "\n",
    "import os\n",
    "from pathlib import Path # for Mac + Win compatability\n",
    "ROOT_PATH = os.getcwd()\n",
    "\n",
    "# print(ROOT_PATH)\n",
    "\n",
    "\n",
    "for filename in Path.cwd().rglob('*.pdf'):\n",
    "    print(filename)\n",
    "    os.system(\"pdfannots.py \" + re.escape(file) + \" \" + args)\n"
   ]
  },
  {
   "cell_type": "code",
   "execution_count": null,
   "metadata": {},
   "outputs": [],
   "source": [
    "for file in os.listdir(ROOT_PATH):\n",
    "   if file.endswith(\").pdf\"):\n",
    "    print(file)\n",
    "    args = ' '.join(map(str, sys.argv[1:]))\n",
    "    args = re.sub(r'test', re.escape(file), args)\n",
    "    os.system(\"/Volumes/MAC\\ HD/joshuascriven/Desktop/python\\ tests/pdfannots.py \" + re.escape(file) + \" \" + args)"
   ]
  }
 ],
 "metadata": {
  "kernelspec": {
   "display_name": "Python 3",
   "language": "python",
   "name": "python3"
  },
  "language_info": {
   "codemirror_mode": {
    "name": "ipython",
    "version": 3
   },
   "file_extension": ".py",
   "mimetype": "text/x-python",
   "name": "python",
   "nbconvert_exporter": "python",
   "pygments_lexer": "ipython3",
   "version": "3.7.3"
  }
 },
 "nbformat": 4,
 "nbformat_minor": 2
}
